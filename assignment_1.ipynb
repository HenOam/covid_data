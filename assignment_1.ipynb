{
 "cells": [
  {
   "cell_type": "markdown",
   "metadata": {},
   "source": [
    "PROJECT: Car selector\n",
    "We are going to build an application that recommends a car based on the user's budget.\n",
    "\n",
    "1. Ask the user what their car buying budget is and store in a variable called budget.\n",
    "2. Try to convert the budget into an integer and store back in the variable called budget.\n",
    "3. If step 2 fails print out \"Please be realistic, you can't buy a car on rainbows and love.\"\n",
    "4. If their budget is greater than 75000, tell them to buy a Tesla.\n",
    "5. If their budget is less than 500 tell them they are better off riding the bus (it will be more reliable than a £500 car)\n",
    "6. Otherwise, tell them to buy a Toyota Corolla or something.\n",
    "7. Regardless of what their budget is let them know they can get all their car shopping done at \"\\[your name here\\] Auto Depot.\""
   ]
  },
  {
   "cell_type": "code",
   "execution_count": null,
   "metadata": {},
   "outputs": [],
   "source": [
    "#user's budget\n",
    "car_budget = input(\"what is your budget please? \")\n",
    "#budget converted to integer\n",
    "car_budget = int(car_budget)\n",
    "if car_budget < 75000:\n",
    "    print(\"Please be realistic, you can't buy a car on rainbows and love. \\n\")\n",
    "elif car_budget > 75000:\n",
    "    print(\"buy a Tesla \\n\")\n",
    "elif car_budget < 500:\n",
    "    print(\"better off riding the bus (it will be more reliable than a £500 car. \\n\")\n",
    "else:\n",
    "    print(\"buy a Toyota Corolla or something else. \\n\")\n",
    "    \n",
    "print(\"You can get all your car shopping done at Henry's Auto Depot\")\n"
   ]
  }
 ],
 "metadata": {
  "language_info": {
   "name": "python"
  }
 },
 "nbformat": 4,
 "nbformat_minor": 2
}
